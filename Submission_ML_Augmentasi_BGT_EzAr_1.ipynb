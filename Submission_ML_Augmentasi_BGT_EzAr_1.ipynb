{
  "nbformat": 4,
  "nbformat_minor": 0,
  "metadata": {
    "colab": {
      "name": "Submission_ML_Augmentasi_BGT_EzAr-1.ipynb",
      "provenance": [],
      "collapsed_sections": [],
      "include_colab_link": true
    },
    "kernelspec": {
      "name": "python3",
      "display_name": "Python 3"
    }
  },
  "cells": [
    {
      "cell_type": "markdown",
      "metadata": {
        "id": "view-in-github",
        "colab_type": "text"
      },
      "source": [
        "<a href=\"https://colab.research.google.com/github/EzarIbrahim19/EzarProject/blob/master/Submission_ML_Augmentasi_BGT_EzAr_1.ipynb\" target=\"_parent\"><img src=\"https://colab.research.google.com/assets/colab-badge.svg\" alt=\"Open In Colab\"/></a>"
      ]
    },
    {
      "cell_type": "markdown",
      "metadata": {
        "id": "sYbLv_dv1WPk",
        "colab_type": "text"
      },
      "source": [
        "#Image Classifier Batu, Gunting, Kertas\n",
        "\n"
      ]
    },
    {
      "cell_type": "code",
      "metadata": {
        "id": "HX88556AxGQe",
        "colab_type": "code",
        "colab": {}
      },
      "source": [
        "#import library yang dibutuhkan\n",
        "import tensorflow as tf\n",
        "from tensorflow.keras.optimizers import RMSprop\n",
        "from tensorflow.keras.preprocessing.image import ImageDataGenerator\n",
        "from sklearn.model_selection import train_test_split\n",
        "import os\n"
      ],
      "execution_count": 1,
      "outputs": []
    },
    {
      "cell_type": "markdown",
      "metadata": {
        "id": "8gl80QED1jXk",
        "colab_type": "text"
      },
      "source": [
        "cek versi tensorflow"
      ]
    },
    {
      "cell_type": "code",
      "metadata": {
        "id": "vBzPagf-1RTC",
        "colab_type": "code",
        "colab": {
          "base_uri": "https://localhost:8080/",
          "height": 34
        },
        "outputId": "b8b93c0c-d019-4fac-9c3c-2d0745fc296f"
      },
      "source": [
        "print(tf.__version__)"
      ],
      "execution_count": 2,
      "outputs": [
        {
          "output_type": "stream",
          "text": [
            "2.2.0\n"
          ],
          "name": "stdout"
        }
      ]
    },
    {
      "cell_type": "markdown",
      "metadata": {
        "id": "hJygJASRFuqG",
        "colab_type": "text"
      },
      "source": [
        "mendapatkan dataset"
      ]
    },
    {
      "cell_type": "code",
      "metadata": {
        "id": "dV8HOB88AbCU",
        "colab_type": "code",
        "colab": {
          "base_uri": "https://localhost:8080/",
          "height": 212
        },
        "outputId": "4907947b-1fec-4bfa-c935-d26a156ffac9"
      },
      "source": [
        "# mendownload file dalam bentuk zip\n",
        "!wget --no-check-certificate \\\n",
        "https://dicodingacademy.blob.core.windows.net/picodiploma/ml_pemula_academy/rockpaperscissors.zip \\\n",
        "  -O /tmp/rockpaperscissors.zip"
      ],
      "execution_count": 3,
      "outputs": [
        {
          "output_type": "stream",
          "text": [
            "--2020-07-15 02:55:47--  https://dicodingacademy.blob.core.windows.net/picodiploma/ml_pemula_academy/rockpaperscissors.zip\n",
            "Resolving dicodingacademy.blob.core.windows.net (dicodingacademy.blob.core.windows.net)... 52.239.197.36\n",
            "Connecting to dicodingacademy.blob.core.windows.net (dicodingacademy.blob.core.windows.net)|52.239.197.36|:443... connected.\n",
            "HTTP request sent, awaiting response... 200 OK\n",
            "Length: 322873683 (308M) [application/zip]\n",
            "Saving to: ‘/tmp/rockpaperscissors.zip’\n",
            "\n",
            "/tmp/rockpapersciss 100%[===================>] 307.92M  8.63MB/s    in 49s     \n",
            "\n",
            "2020-07-15 02:56:36 (6.34 MB/s) - ‘/tmp/rockpaperscissors.zip’ saved [322873683/322873683]\n",
            "\n"
          ],
          "name": "stdout"
        }
      ]
    },
    {
      "cell_type": "code",
      "metadata": {
        "id": "0BnJ455wBEiC",
        "colab_type": "code",
        "colab": {}
      },
      "source": [
        "# mengekstraksi file zip\n",
        "import zipfile\n",
        "local_zip = '/tmp/rockpaperscissors.zip'\n",
        "zip_ref = zipfile.ZipFile(local_zip,'r')\n",
        "zip_ref.extractall('/tmp')\n",
        "zip_ref.close()\n",
        "\n",
        "base_dir = '/tmp/rockpaperscissors'\n",
        "train_dir = os.path.join(base_dir,'train')\n",
        "validation_dir = os.path.join(base_dir, 'val')\n"
      ],
      "execution_count": 4,
      "outputs": []
    },
    {
      "cell_type": "code",
      "metadata": {
        "id": "40X0c7RoCLLJ",
        "colab_type": "code",
        "colab": {
          "base_uri": "https://localhost:8080/",
          "height": 34
        },
        "outputId": "df63e2a3-e1b0-4943-e497-2453924b1d0d"
      },
      "source": [
        "os.listdir('/tmp/rockpaperscissors')"
      ],
      "execution_count": 5,
      "outputs": [
        {
          "output_type": "execute_result",
          "data": {
            "text/plain": [
              "['rock', 'README_rpc-cv-images.txt', 'scissors', 'paper', 'rps-cv-images']"
            ]
          },
          "metadata": {
            "tags": []
          },
          "execution_count": 5
        }
      ]
    },
    {
      "cell_type": "markdown",
      "metadata": {
        "id": "cu74nZwH9XnM",
        "colab_type": "text"
      },
      "source": [
        "cek panjang atau jumlah data\n"
      ]
    },
    {
      "cell_type": "code",
      "metadata": {
        "id": "g3jIqxj-COkZ",
        "colab_type": "code",
        "colab": {
          "base_uri": "https://localhost:8080/",
          "height": 34
        },
        "outputId": "2c8546a9-f775-4886-ceb3-98493c8500e8"
      },
      "source": [
        "len(os.listdir('/tmp/rockpaperscissors/scissors'))"
      ],
      "execution_count": 6,
      "outputs": [
        {
          "output_type": "execute_result",
          "data": {
            "text/plain": [
              "750"
            ]
          },
          "metadata": {
            "tags": []
          },
          "execution_count": 6
        }
      ]
    },
    {
      "cell_type": "code",
      "metadata": {
        "id": "kuMTYp4QCRmr",
        "colab_type": "code",
        "colab": {
          "base_uri": "https://localhost:8080/",
          "height": 34
        },
        "outputId": "c0380734-7b73-4b52-e5d7-035f71b0b0fd"
      },
      "source": [
        "len(os.listdir('/tmp/rockpaperscissors/paper'))"
      ],
      "execution_count": 7,
      "outputs": [
        {
          "output_type": "execute_result",
          "data": {
            "text/plain": [
              "712"
            ]
          },
          "metadata": {
            "tags": []
          },
          "execution_count": 7
        }
      ]
    },
    {
      "cell_type": "code",
      "metadata": {
        "id": "pQN0o6p4CTn0",
        "colab_type": "code",
        "colab": {
          "base_uri": "https://localhost:8080/",
          "height": 34
        },
        "outputId": "baf62dc5-46e9-41b0-de4c-060b131daaec"
      },
      "source": [
        "len(os.listdir('/tmp/rockpaperscissors/rock'))"
      ],
      "execution_count": 8,
      "outputs": [
        {
          "output_type": "execute_result",
          "data": {
            "text/plain": [
              "726"
            ]
          },
          "metadata": {
            "tags": []
          },
          "execution_count": 8
        }
      ]
    },
    {
      "cell_type": "code",
      "metadata": {
        "id": "-u8wvApO1k1R",
        "colab_type": "code",
        "colab": {}
      },
      "source": [
        "# membuat direktori train dan validation (dijalankan hanya sekali)\n",
        "os.mkdir(train_dir)\n",
        "os.mkdir(validation_dir)"
      ],
      "execution_count": 10,
      "outputs": []
    },
    {
      "cell_type": "code",
      "metadata": {
        "id": "7ebz7S6vcn6W",
        "colab_type": "code",
        "colab": {
          "base_uri": "https://localhost:8080/",
          "height": 141
        },
        "outputId": "1b7786cb-248e-476f-c03a-ad00e0c1e9e7"
      },
      "source": [
        "os.listdir('/tmp/rockpaperscissors')"
      ],
      "execution_count": 11,
      "outputs": [
        {
          "output_type": "execute_result",
          "data": {
            "text/plain": [
              "['rock',\n",
              " 'README_rpc-cv-images.txt',\n",
              " 'train',\n",
              " 'scissors',\n",
              " 'val',\n",
              " 'paper',\n",
              " 'rps-cv-images']"
            ]
          },
          "metadata": {
            "tags": []
          },
          "execution_count": 11
        }
      ]
    },
    {
      "cell_type": "code",
      "metadata": {
        "id": "wjqqgYn72IOT",
        "colab_type": "code",
        "colab": {}
      },
      "source": [
        "rock_dir = os.path.join(base_dir,'rock')\n",
        "paper_dir = os.path.join(base_dir, 'paper')\n",
        "scissors_dir = os.path.join(base_dir, 'scissors')"
      ],
      "execution_count": 12,
      "outputs": []
    },
    {
      "cell_type": "markdown",
      "metadata": {
        "id": "1wJ-QMTE5jWZ",
        "colab_type": "text"
      },
      "source": [
        "memecah direktori rock,scissors dan paper masing2 menjadi data train dan data validation"
      ]
    },
    {
      "cell_type": "code",
      "metadata": {
        "id": "KwD7Gx_6Op2Y",
        "colab_type": "code",
        "colab": {}
      },
      "source": [
        "train_rock_dir, val_rock_dir = train_test_split(os.listdir(rock_dir), test_size = 0.2)\n",
        "train_scissors_dir, val_scissors_dir = train_test_split(os.listdir(scissors_dir), test_size = 0.2)\n",
        "train_paper_dir, val_paper_dir = train_test_split(os.listdir(paper_dir), test_size = 0.2)\n"
      ],
      "execution_count": 13,
      "outputs": []
    },
    {
      "cell_type": "code",
      "metadata": {
        "id": "7aD-3YPeUNKd",
        "colab_type": "code",
        "colab": {}
      },
      "source": [
        "train_paper = os.path.join(train_dir, 'paper')\n",
        "val_paper = os.path.join(validation_dir, 'paper')\n",
        "train_scissors = os.path.join(train_dir, 'scissors')\n",
        "val_scissors = os.path.join(validation_dir, 'scissors')\n",
        "train_rock = os.path.join(train_dir, 'rock')\n",
        "val_rock = os.path.join(validation_dir, 'rock')\n",
        "\n",
        "# membuat directory baru di dalam directory train dan val masing-masing\n",
        "if not os.path.exists(train_paper):\n",
        "  os.mkdir(train_paper)\n",
        "if not os.path.exists(val_paper):\n",
        "  os.mkdir(val_paper)\n",
        "\n",
        "if not os.path.exists(train_scissors):\n",
        "  os.mkdir(train_scissors)\n",
        "if not os.path.exists(val_scissors):\n",
        "  os.mkdir(val_scissors)\n",
        "\n",
        "if not os.path.exists(train_rock):\n",
        "  os.mkdir(train_rock)\n",
        "if not os.path.exists(val_rock):\n",
        "  os.mkdir(val_rock)\n",
        "\n",
        "\n",
        "\n"
      ],
      "execution_count": 15,
      "outputs": []
    },
    {
      "cell_type": "code",
      "metadata": {
        "id": "SiQSZxqTW1kI",
        "colab_type": "code",
        "colab": {}
      },
      "source": [
        "# mengcopy data train dan data val ke directory baru dengan librari shutil\n",
        "import shutil\n",
        "\n",
        "for a in train_rock_dir:\n",
        "  shutil.copy(os.path.join(rock_dir, a), os.path.join(train_rock, a))\n",
        "for a in train_paper_dir:\n",
        "  shutil.copy(os.path.join(paper_dir,a), os.path.join(train_paper,a))\n",
        "for a in train_scissors_dir:\n",
        "  shutil.copy(os.path.join(scissors_dir,a), os.path.join(train_scissors,a))\n",
        "\n",
        "for a in val_rock_dir:\n",
        "  shutil.copy(os.path.join(rock_dir, a), os.path.join(val_rock,a))\n",
        "for a in val_paper_dir:\n",
        "  shutil.copy(os.path.join(paper_dir,a), os.path.join(val_paper,a))\n",
        "for a in val_scissors_dir:\n",
        "  shutil.copy(os.path.join(scissors_dir,a), os.path.join(val_scissors,a))"
      ],
      "execution_count": 16,
      "outputs": []
    },
    {
      "cell_type": "markdown",
      "metadata": {
        "id": "BD_-oTa4PjcQ",
        "colab_type": "text"
      },
      "source": [
        "membuat sebuah objek ImageDataGenerator untuk data training dan data testing."
      ]
    },
    {
      "cell_type": "code",
      "metadata": {
        "id": "RInl5EEhOw-A",
        "colab_type": "code",
        "colab": {}
      },
      "source": [
        "train_datagen = ImageDataGenerator(\n",
        "    rescale = 1./225,\n",
        "    rotation_range = 20,\n",
        "    horizontal_flip = True,\n",
        "    shear_range = 0.2,\n",
        "    fill_mode = 'nearest')\n",
        "\n",
        "test_datagen = ImageDataGenerator( \n",
        "    rescale = 1./225, \n",
        "    rotation_range = 20,\n",
        "    horizontal_flip = True,\n",
        "    shear_range = 0.2,\n",
        "    fill_mode = 'nearest')"
      ],
      "execution_count": 17,
      "outputs": []
    },
    {
      "cell_type": "markdown",
      "metadata": {
        "id": "MZBTyHhYQT8k",
        "colab_type": "text"
      },
      "source": [
        "menggunakan objek image data generator sebelumnya untuk mempersiapkan data latih yang akan dipelajari oleh model."
      ]
    },
    {
      "cell_type": "code",
      "metadata": {
        "id": "1JAd6HhzQVEy",
        "colab_type": "code",
        "colab": {
          "base_uri": "https://localhost:8080/",
          "height": 52
        },
        "outputId": "eb513f5e-d02e-4ff3-ef75-3d3440223fef"
      },
      "source": [
        "# split into train and test\n",
        "train_generator = train_datagen.flow_from_directory(\n",
        "    train_dir, #direktori data latih\n",
        "    target_size=(100, 100), #mengubah resolusi seluruh gambar menjadi 100x100 pixels\n",
        "    batch_size =32,\n",
        "    #melakukan masalah klasifikasi 3 kelas maka menggunakan class_mode ='Categorical'\n",
        "    class_mode ='categorical')\n",
        "\n",
        "validation_generator = test_datagen.flow_from_directory(\n",
        "    validation_dir, #direktori data validasi\n",
        "    target_size=(100, 100),\n",
        "    batch_size=32,\n",
        "    class_mode = 'categorical')"
      ],
      "execution_count": 18,
      "outputs": [
        {
          "output_type": "stream",
          "text": [
            "Found 1749 images belonging to 3 classes.\n",
            "Found 439 images belonging to 3 classes.\n"
          ],
          "name": "stdout"
        }
      ]
    },
    {
      "cell_type": "markdown",
      "metadata": {
        "id": "Ja-9er_PeVQg",
        "colab_type": "text"
      },
      "source": [
        "membuat model"
      ]
    },
    {
      "cell_type": "code",
      "metadata": {
        "id": "VIID597neTkD",
        "colab_type": "code",
        "colab": {}
      },
      "source": [
        "#mendefinisikan model\n",
        "model = tf.keras.models.Sequential([\n",
        "    tf.keras.layers.Conv2D(64, (3,3), activation='relu', input_shape=(100, 100, 3)),\n",
        "    tf.keras.layers.MaxPooling2D(2,2),\n",
        "    tf.keras.layers.Conv2D(128, (3,3), activation='relu'),\n",
        "    tf.keras.layers.MaxPooling2D(2,2),\n",
        "    tf.keras.layers.Conv2D(128, (3,3), activation='relu'),\n",
        "    tf.keras.layers.MaxPooling2D(2,2),\n",
        "    #flatten the results to feed into a DNN\n",
        "    tf.keras.layers.Flatten(),\n",
        "\n",
        "    #512 neuron hidden layer\n",
        "    tf.keras.layers.Dense(512, activation='relu'),\n",
        "    tf.keras.layers.Dense(3, activation='softmax')\n",
        "])"
      ],
      "execution_count": 19,
      "outputs": []
    },
    {
      "cell_type": "markdown",
      "metadata": {
        "id": "hNV-woOHfN5E",
        "colab_type": "text"
      },
      "source": [
        "memanggil fungsi compile pada objek model, dan tentukan loss function serta optimizer."
      ]
    },
    {
      "cell_type": "code",
      "metadata": {
        "id": "xwvFqn7ffPAo",
        "colab_type": "code",
        "colab": {}
      },
      "source": [
        "#compile model\n",
        "model.compile(loss='categorical_crossentropy',\n",
        "              optimizer= 'RMSprop',\n",
        "              metrics=['accuracy'])"
      ],
      "execution_count": 20,
      "outputs": []
    },
    {
      "cell_type": "code",
      "metadata": {
        "id": "ghm1dOXnfsR1",
        "colab_type": "code",
        "colab": {
          "base_uri": "https://localhost:8080/",
          "height": 410
        },
        "outputId": "eb221d85-fb04-4d70-8e16-823e965fc79c"
      },
      "source": [
        "#fit / training model\n",
        "history = model.fit(\n",
        "    train_generator,\n",
        "    steps_per_epoch = 25,\n",
        "    epochs = 20,\n",
        "    validation_data = validation_generator,\n",
        "    validation_steps = 5,\n",
        "    verbose =2\n",
        ")"
      ],
      "execution_count": null,
      "outputs": [
        {
          "output_type": "stream",
          "text": [
            "Epoch 1/20\n",
            "25/25 - 34s - loss: 1.4603 - accuracy: 0.4150 - val_loss: 1.1366 - val_accuracy: 0.5750\n",
            "Epoch 2/20\n",
            "25/25 - 34s - loss: 0.8626 - accuracy: 0.6375 - val_loss: 0.5560 - val_accuracy: 0.8125\n",
            "Epoch 3/20\n",
            "25/25 - 34s - loss: 0.4886 - accuracy: 0.8200 - val_loss: 0.3605 - val_accuracy: 0.8750\n",
            "Epoch 4/20\n",
            "25/25 - 34s - loss: 0.3715 - accuracy: 0.8593 - val_loss: 0.3126 - val_accuracy: 0.8938\n",
            "Epoch 5/20\n",
            "25/25 - 34s - loss: 0.2790 - accuracy: 0.9025 - val_loss: 0.4499 - val_accuracy: 0.8438\n",
            "Epoch 6/20\n",
            "25/25 - 34s - loss: 0.2383 - accuracy: 0.9062 - val_loss: 0.2401 - val_accuracy: 0.9125\n",
            "Epoch 7/20\n",
            "25/25 - 34s - loss: 0.2195 - accuracy: 0.9237 - val_loss: 0.1817 - val_accuracy: 0.9250\n",
            "Epoch 8/20\n",
            "25/25 - 34s - loss: 0.2201 - accuracy: 0.9187 - val_loss: 0.2781 - val_accuracy: 0.8938\n",
            "Epoch 9/20\n",
            "25/25 - 34s - loss: 0.1722 - accuracy: 0.9375 - val_loss: 0.0839 - val_accuracy: 0.9563\n",
            "Epoch 10/20\n",
            "25/25 - 37s - loss: 0.1341 - accuracy: 0.9550 - val_loss: 0.2207 - val_accuracy: 0.9312\n",
            "Epoch 11/20\n"
          ],
          "name": "stdout"
        }
      ]
    },
    {
      "cell_type": "code",
      "metadata": {
        "id": "9SzYNSNQ5NEZ",
        "colab_type": "code",
        "colab": {
          "base_uri": "https://localhost:8080/",
          "height": 498
        },
        "outputId": "b4a7f6eb-c5a9-437b-bc7f-d6ebecf47d69"
      },
      "source": [
        "# memvisualisasikan hasil data training \n",
        "\n",
        "import numpy as np\n",
        "from google.colab import files\n",
        "from keras.preprocessing import image\n",
        "import matplotlib.pyplot as plt\n",
        "import matplotlib.image as mpimg\n",
        "import matplotlib.pyplot as plt\n",
        "import matplotlib.image as mpimg\n",
        "%matplotlib inline\n",
        " \n",
        "\n",
        "acc = history.history['accuracy']\n",
        "val_acc = history.history['val_accuracy']\n",
        "\n",
        "loss = history.history['loss']\n",
        "val_loss = history.history['val_loss']\n",
        "\n",
        "epochs_range = range(20)\n",
        "\n",
        "plt.figure(figsize=(8, 8))\n",
        "plt.subplot(1, 2, 1)\n",
        "plt.plot(epochs_range, acc, label='Training Accuracy')\n",
        "plt.plot(epochs_range, val_acc, label='Validation Accuracy')\n",
        "plt.legend(loc='lower right')\n",
        "plt.title('Training and Validation Accuracy')\n",
        "\n",
        "plt.subplot(1, 2, 2)\n",
        "plt.plot(epochs_range, loss, label='Training Loss')\n",
        "plt.plot(epochs_range, val_loss, label='Validation Loss')\n",
        "plt.legend(loc='upper right')\n",
        "plt.title('Training and Validation Loss')\n",
        "plt.show()"
      ],
      "execution_count": null,
      "outputs": [
        {
          "output_type": "display_data",
          "data": {
            "image/png": "[encoded data removed]",
            "text/plain": [
              "<Figure size 576x576 with 2 Axes>"
            ]
          },
          "metadata": {
            "tags": [],
            "needs_background": "light"
          }
        }
      ]
    },
    {
      "cell_type": "code",
      "metadata": {
        "id": "GubuaF2810P7",
        "colab_type": "code",
        "colab": {}
      },
      "source": [
        "import numpy as np\n",
        "from google.colab import files \n",
        "from keras.preprocessing import image\n",
        "import matplotlib.pyplot as plt\n",
        "import matplotlib.image as mpimg\n",
        "import matplotlib.pyplot as plt\n",
        "import matplotlib.image as mpimg\n",
        "%matplotlib inline\n",
        "\n",
        " \n",
        "uploaded = files.upload()\n",
        " \n",
        "for ez in uploaded.keys():\n",
        " \n",
        "  # predicting images\n",
        "  path = ez\n",
        "  img = image.load_img(path, target_size=(100,100))\n",
        "  imgplot = plt.imshow(img)\n",
        "  x = image.img_to_array(img)\n",
        "  x = np.expand_dims(x, axis=0)\n",
        " \n",
        "  images = np.vstack([x])\n",
        "  classes = model.predict(images, batch_size=10)\n",
        "  \n",
        "  print(ez)\n",
        "  if classes [0,0] !=0:\n",
        "    print('paper')\n",
        "  elif classes [0,1] !=0:\n",
        "    print('rock')\n",
        "  else:\n",
        "    print('scissors')"
      ],
      "execution_count": null,
      "outputs": []
    }
  ]
}